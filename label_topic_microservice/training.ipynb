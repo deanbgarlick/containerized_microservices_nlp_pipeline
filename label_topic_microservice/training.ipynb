{
 "cells": [
  {
   "cell_type": "code",
   "execution_count": 81,
   "metadata": {},
   "outputs": [],
   "source": [
    "import os\n",
    "import re\n",
    "import numpy as np\n",
    "import spacy\n",
    "import time\n",
    "import tqdm\n",
    "import matplotlib.pyplot as plt\n",
    "import pandas as pd\n",
    "import sklearn.metrics\n",
    "from utils import EmailCleaningService\n",
    "from transformer import CorExTopicModel"
   ]
  },
  {
   "cell_type": "code",
   "execution_count": 82,
   "metadata": {},
   "outputs": [],
   "source": [
    "emails_df = pd.read_csv('data/emails_text.csv', index_col=0)"
   ]
  },
  {
   "cell_type": "code",
   "execution_count": 83,
   "metadata": {},
   "outputs": [],
   "source": [
    "def extract_email_bodies():\n",
    "    emails_df = pd.read_csv('./data/emails.csv', nrows=10)\n",
    "    email_parser = email.parser.Parser()\n",
    "    emails_df.message.apply(lambda x: email_parser.parsestr(x)._payload)\n",
    "    emails_df = pd.read_csv('./data/emails.csv')\n",
    "    emails_text = emails_df.message.apply(lambda x: email_parser.parsestr(x)._payload)\n",
    "    emails_text.to_csv('data/emails_text.csv')\n",
    "    del emails_df \n",
    "    \n",
    "def remove_email_length_outliers(emails_df):\n",
    "    Q1 = np.round(emails_df.shape[0]/4)\n",
    "    Q3 = np.round(3*emails_df.shape[0]/4, 0)\n",
    "    emails_df['log_len'] = np.log(emails_df['len'])\n",
    "    emails_df = emails_df.sort_values(by='log_len')\n",
    "    IQR = emails_df['log_len'].iloc[int(Q3)] - emails_df['log_len'].iloc[int(Q1)]\n",
    "    lower_bound = emails_df['log_len'].iloc[int(Q1)] - IQR * 1.5\n",
    "    upper_bound = emails_df['log_len'].iloc[int(Q3)] + IQR * 1.5\n",
    "    emails_df_filtered = emails_df.loc[(emails_df['log_len']>lower_bound)&(emails_df['log_len']<upper_bound)]\n",
    "    return emails_df_filtered"
   ]
  },
  {
   "cell_type": "code",
   "execution_count": 84,
   "metadata": {},
   "outputs": [],
   "source": [
    "emails_sample = emails_df['message'].sample(10000)"
   ]
  },
  {
   "cell_type": "code",
   "execution_count": 85,
   "metadata": {},
   "outputs": [
    {
     "name": "stderr",
     "output_type": "stream",
     "text": [
      "100%|██████████| 100/100 [06:49<00:00,  4.09s/it]\n"
     ]
    }
   ],
   "source": [
    "cleaned_email_list = []\n",
    "for i in tqdm.tqdm(range(0, emails_sample.shape[0]//100)):\n",
    "    cleaned_email_list.append(emails_sample.iloc[i*100:(i+1)*100].apply(EmailCleaningService.instance()))"
   ]
  },
  {
   "cell_type": "code",
   "execution_count": 86,
   "metadata": {},
   "outputs": [],
   "source": [
    "emails_processed = pd.concat(cleaned_email_list)"
   ]
  },
  {
   "cell_type": "code",
   "execution_count": 87,
   "metadata": {},
   "outputs": [],
   "source": [
    "os.makedirs('training_data', exist_ok=True)"
   ]
  },
  {
   "cell_type": "code",
   "execution_count": 88,
   "metadata": {},
   "outputs": [],
   "source": [
    "emails_processed.to_csv('emails_processed.csv')"
   ]
  },
  {
   "cell_type": "code",
   "execution_count": 89,
   "metadata": {},
   "outputs": [
    {
     "data": {
      "text/plain": [
       "(array([  48.,   74.,  314., 1006., 2430., 3349., 2115.,  566.,   80.,\n",
       "          18.]),\n",
       " array([ 0.        ,  1.17746588,  2.35493175,  3.53239763,  4.7098635 ,\n",
       "         5.88732938,  7.06479526,  8.24226113,  9.41972701, 10.59719289,\n",
       "        11.77465876]),\n",
       " <a list of 10 Patch objects>)"
      ]
     },
     "execution_count": 89,
     "metadata": {},
     "output_type": "execute_result"
    },
    {
     "data": {
      "image/png": "[encoded data removed]",
      "text/plain": [
       "<Figure size 432x288 with 1 Axes>"
      ]
     },
     "metadata": {
      "needs_background": "light"
     },
     "output_type": "display_data"
    }
   ],
   "source": [
    "df = pd.read_csv('emails_processed.csv', index_col=0)\n",
    "df['body'] = df['message']\n",
    "df['len'] = df['body'].astype(str).apply(len)\n",
    "\n",
    "plt.hist(np.log(df.len))"
   ]
  },
  {
   "cell_type": "code",
   "execution_count": 90,
   "metadata": {},
   "outputs": [
    {
     "data": {
      "text/plain": [
       "{'whiskers': [<matplotlib.lines.Line2D at 0x7fddb8841e80>,\n",
       "  <matplotlib.lines.Line2D at 0x7fddb887c4e0>],\n",
       " 'caps': [<matplotlib.lines.Line2D at 0x7fddb887c828>,\n",
       "  <matplotlib.lines.Line2D at 0x7fddb887cb70>],\n",
       " 'boxes': [<matplotlib.lines.Line2D at 0x7fddb886fe80>],\n",
       " 'medians': [<matplotlib.lines.Line2D at 0x7fddb887ceb8>],\n",
       " 'fliers': [<matplotlib.lines.Line2D at 0x7fddb8805240>],\n",
       " 'means': []}"
      ]
     },
     "execution_count": 90,
     "metadata": {},
     "output_type": "execute_result"
    },
    {
     "data": {
      "image/png": "[encoded data removed]",
      "text/plain": [
       "<Figure size 432x288 with 1 Axes>"
      ]
     },
     "metadata": {
      "needs_background": "light"
     },
     "output_type": "display_data"
    }
   ],
   "source": [
    "plt.boxplot(np.log(df.len))"
   ]
  },
  {
   "cell_type": "code",
   "execution_count": 91,
   "metadata": {},
   "outputs": [],
   "source": [
    "no_outliers_df = remove_email_length_outliers(df)\n",
    "no_outliers_df['random'] = np.random.permutation(no_outliers_df.shape[0])\n",
    "no_outliers_df = no_outliers_df.sort_values(by='random')"
   ]
  },
  {
   "cell_type": "code",
   "execution_count": 92,
   "metadata": {},
   "outputs": [
    {
     "data": {
      "text/plain": [
       "{'whiskers': [<matplotlib.lines.Line2D at 0x7fddb8836668>,\n",
       "  <matplotlib.lines.Line2D at 0x7fddb87d7828>],\n",
       " 'caps': [<matplotlib.lines.Line2D at 0x7fddb87d7b70>,\n",
       "  <matplotlib.lines.Line2D at 0x7fddb87d7eb8>],\n",
       " 'boxes': [<matplotlib.lines.Line2D at 0x7fddb87d7358>],\n",
       " 'medians': [<matplotlib.lines.Line2D at 0x7fddb87e0240>],\n",
       " 'fliers': [<matplotlib.lines.Line2D at 0x7fddb87e0588>],\n",
       " 'means': []}"
      ]
     },
     "execution_count": 92,
     "metadata": {},
     "output_type": "execute_result"
    },
    {
     "data": {
      "image/png": "[encoded data removed]",
      "text/plain": [
       "<Figure size 432x288 with 1 Axes>"
      ]
     },
     "metadata": {
      "needs_background": "light"
     },
     "output_type": "display_data"
    }
   ],
   "source": [
    "plt.boxplot(np.log(no_outliers_df['len']))"
   ]
  },
  {
   "cell_type": "code",
   "execution_count": 93,
   "metadata": {},
   "outputs": [
    {
     "name": "stdout",
     "output_type": "stream",
     "text": [
      "47.584614515304565\n"
     ]
    }
   ],
   "source": [
    "model = CorExTopicModel()\n",
    "start_time = time.time()\n",
    "model.train(train.iloc[:10000], n_hidden=20, anchors=[['oil', 'gas', 'energy', 'power', 'kilowatt']], anchor_strength=10)\n",
    "end_time = time.time()\n",
    "print(end_time - start_time)"
   ]
  },
  {
   "cell_type": "code",
   "execution_count": 94,
   "metadata": {},
   "outputs": [
    {
     "data": {
      "text/plain": [
       "{0: ['energy',\n",
       "  'gas',\n",
       "  'power',\n",
       "  'oil',\n",
       "  'natural gas',\n",
       "  'natural',\n",
       "  'supply',\n",
       "  'energy services',\n",
       "  'marketing',\n",
       "  'power plant'],\n",
       " 1: ['market',\n",
       "  'price',\n",
       "  'service',\n",
       "  'costs',\n",
       "  'prices',\n",
       "  'cost',\n",
       "  'change',\n",
       "  'include',\n",
       "  'based',\n",
       "  'value'],\n",
       " 2: ['let know',\n",
       "  'let',\n",
       "  'know',\n",
       "  'know questions',\n",
       "  'thanks',\n",
       "  'know need',\n",
       "  'know thanks',\n",
       "  'communicationsenron communications',\n",
       "  'communicationsenron',\n",
       "  'enron communicationsenron'],\n",
       " 3: ['agreement',\n",
       "  'issues',\n",
       "  'comments',\n",
       "  'review',\n",
       "  'issue',\n",
       "  'proposed',\n",
       "  'draft',\n",
       "  'changes',\n",
       "  'parties',\n",
       "  'ferc'],\n",
       " 4: ['deal',\n",
       "  'capacity',\n",
       "  'pipeline',\n",
       "  'deals',\n",
       "  'term',\n",
       "  'plant',\n",
       "  'mw',\n",
       "  'purchase',\n",
       "  'volume',\n",
       "  'contract'],\n",
       " 5: ['make',\n",
       "  'like',\n",
       "  'way',\n",
       "  'said',\n",
       "  'work',\n",
       "  'want',\n",
       "  'good',\n",
       "  'sure',\n",
       "  'people',\n",
       "  'say'],\n",
       " 6: ['news',\n",
       "  'big',\n",
       "  'home',\n",
       "  'rights reserved',\n",
       "  'reserved',\n",
       "  'life',\n",
       "  'game',\n",
       "  'play',\n",
       "  'city',\n",
       "  'act'],\n",
       " 7: ['houectect',\n",
       "  'houectect houectect',\n",
       "  'naenronenron',\n",
       "  'houeesees',\n",
       "  'ectect',\n",
       "  'corpenronenron',\n",
       "  'msn',\n",
       "  'lonectect',\n",
       "  'eesees',\n",
       "  'enronenronxgate'],\n",
       " 8: ['date hourahead',\n",
       "  'hourahead hour',\n",
       "  'hourahead',\n",
       "  'start date',\n",
       "  'log messages',\n",
       "  'parsing file',\n",
       "  'california scheduling',\n",
       "  'westdesk',\n",
       "  'westdesk california',\n",
       "  'messages parsing'],\n",
       " 9: ['state',\n",
       "  'states',\n",
       "  'utilities',\n",
       "  'million',\n",
       "  'utility',\n",
       "  'public',\n",
       "  'california',\n",
       "  'commission',\n",
       "  'electricity',\n",
       "  'customers'],\n",
       " 10: ['north america',\n",
       "  'america',\n",
       "  'enron north',\n",
       "  'north',\n",
       "  'corp',\n",
       "  'enron',\n",
       "  'america corp',\n",
       "  'smith street',\n",
       "  'smith',\n",
       "  'eb houston'],\n",
       " 11: ['business',\n",
       "  'company',\n",
       "  'provide',\n",
       "  'including',\n",
       "  'support',\n",
       "  'markets',\n",
       "  'companies',\n",
       "  'group',\n",
       "  'continue',\n",
       "  'current'],\n",
       " 12: ['confidential',\n",
       "  'intended',\n",
       "  'privileged',\n",
       "  'sender',\n",
       "  'recipient',\n",
       "  'intended recipient',\n",
       "  'delete',\n",
       "  'prohibited',\n",
       "  'contain',\n",
       "  'strictly prohibited'],\n",
       " 13: ['meeting',\n",
       "  'look forward',\n",
       "  'forward',\n",
       "  'attend',\n",
       "  'look',\n",
       "  'conference',\n",
       "  'feel',\n",
       "  'university',\n",
       "  'discuss',\n",
       "  'room'],\n",
       " 14: ['new',\n",
       "  'president',\n",
       "  'industry',\n",
       "  'great',\n",
       "  'future',\n",
       "  'best',\n",
       "  'world',\n",
       "  'vice',\n",
       "  'opportunities',\n",
       "  'members'],\n",
       " 15: ['fax',\n",
       "  'cc',\n",
       "  'subject',\n",
       "  'cc subject',\n",
       "  'phone fax',\n",
       "  'phone',\n",
       "  'houston texas',\n",
       "  'street',\n",
       "  'houston',\n",
       "  'texas'],\n",
       " 16: ['time',\n",
       "  'need',\n",
       "  'help',\n",
       "  'possible',\n",
       "  'th',\n",
       "  'soon',\n",
       "  'able',\n",
       "  'place',\n",
       "  'office',\n",
       "  'plan'],\n",
       " 17: ['information',\n",
       "  'management',\n",
       "  'web',\n",
       "  'site',\n",
       "  'access',\n",
       "  'available',\n",
       "  'online',\n",
       "  'financial',\n",
       "  'risk',\n",
       "  'services'],\n",
       " 18: ['click',\n",
       "  'unsubscribe',\n",
       "  'email',\n",
       "  'free',\n",
       "  'receive',\n",
       "  'internet',\n",
       "  'visit',\n",
       "  'copyright',\n",
       "  'link',\n",
       "  'address'],\n",
       " 19: ['just',\n",
       "  'dont',\n",
       "  'im',\n",
       "  'think',\n",
       "  'going',\n",
       "  'got',\n",
       "  'really',\n",
       "  'ill',\n",
       "  'did',\n",
       "  'didnt']}"
      ]
     },
     "execution_count": 94,
     "metadata": {},
     "output_type": "execute_result"
    }
   ],
   "source": [
    "model._topic_hash"
   ]
  },
  {
   "cell_type": "code",
   "execution_count": 95,
   "metadata": {},
   "outputs": [],
   "source": [
    "model.to_disk()"
   ]
  },
  {
   "cell_type": "code",
   "execution_count": null,
   "metadata": {},
   "outputs": [],
   "source": []
  }
 ],
 "metadata": {
  "kernelspec": {
   "display_name": "Environment (conda_pytorch_p36)",
   "language": "python",
   "name": "conda_pytorch_p36"
  },
  "language_info": {
   "codemirror_mode": {
    "name": "ipython",
    "version": 3
   },
   "file_extension": ".py",
   "mimetype": "text/x-python",
   "name": "python",
   "nbconvert_exporter": "python",
   "pygments_lexer": "ipython3",
   "version": "3.6.10"
  }
 },
 "nbformat": 4,
 "nbformat_minor": 4
}
